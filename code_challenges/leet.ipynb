{
 "cells": [
  {
   "cell_type": "markdown",
   "metadata": {},
   "source": [
    "# Leet code challenges"
   ]
  },
  {
   "cell_type": "markdown",
   "metadata": {},
   "source": [
    "### 1. Two Sum\n",
    "Given an array of integers nums and an integer target, return indices of the two numbers such that they add up to target.\n",
    "\n",
    "You may assume that each input would have exactly one solution, and you may not use the same element twice.\n",
    "\n",
    "You can return the answer in any order."
   ]
  },
  {
   "cell_type": "code",
   "execution_count": 1,
   "metadata": {},
   "outputs": [
    {
     "data": {
      "text/plain": [
       "[1, 2]"
      ]
     },
     "execution_count": 1,
     "metadata": {},
     "output_type": "execute_result"
    }
   ],
   "source": [
    "def twoSum(nums, target):\n",
    "    \"\"\"\n",
    "    :type nums: List[int]\n",
    "    :type target: int\n",
    "    :rtype: List[int]\n",
    "    \"\"\"\n",
    "    locations = []\n",
    "    for i in range(len(nums)):\n",
    "        for j in range(i + 1, len(nums)):\n",
    "            if nums[i] + nums[j] == target:\n",
    "                locations.append(i)\n",
    "                locations.append(j)\n",
    "            else:\n",
    "                pass\n",
    "    return locations[:2]\n",
    "twoSum([3, 2, 4], 6)"
   ]
  },
  {
   "cell_type": "markdown",
   "metadata": {},
   "source": [
    "### 2. Add two numbers\n",
    "You are given two non-empty linked lists representing two non-negative integers. The digits are stored in reverse order, and each of their nodes contains a single digit. Add the two numbers and return the sum as a linked list.\n",
    "\n",
    "You may assume the two numbers do not contain any leading zero, except the number 0 itself."
   ]
  },
  {
   "cell_type": "code",
   "execution_count": 28,
   "metadata": {},
   "outputs": [
    {
     "data": {
      "text/plain": [
       "[7, 0, 8]"
      ]
     },
     "execution_count": 28,
     "metadata": {},
     "output_type": "execute_result"
    }
   ],
   "source": [
    "def addTwoNumbers(l1, l2):\n",
    "    \"\"\"\n",
    "    :type l1: ListNode\n",
    "    :type l2: ListNode\n",
    "    :rtype: ListNode\n",
    "    \"\"\"\n",
    "    reverse_l1 = l1[::-1] #backwards\n",
    "    str_l1 = [str(i) for i in reverse_l1]\n",
    "    num_l1 = int(''.join(str_l1))\n",
    "    \n",
    "    reverse_l2 = l2[::-1]\n",
    "    str_l2 = [str(i) for i in reverse_l2]\n",
    "    num_l2 = int(''.join(str_l2))\n",
    "    \n",
    "    num_3 = num_l1 + num_l2\n",
    "    l3 = [i for i in str(num_3)]\n",
    "    reverse_l3 = l3[::-1]\n",
    "    int_l3 = [int(i) for i in reverse_l3]\n",
    "    \n",
    "    return int_l3\n",
    "\n",
    "addTwoNumbers(l1 = [2, 4, 3], l2 = [5, 6, 4])"
   ]
  },
  {
   "cell_type": "markdown",
   "metadata": {},
   "source": [
    "### 3. Longest Substring Without Repeating Characters\n",
    "Given a string s, find the length of the longest substring without repeating characters."
   ]
  },
  {
   "cell_type": "code",
   "execution_count": 40,
   "metadata": {},
   "outputs": [
    {
     "name": "stdout",
     "output_type": "stream",
     "text": [
      "The answer is \"wke\", with the length of 3.\n"
     ]
    }
   ],
   "source": [
    "def lengthOfLongestSubstring(s):\n",
    "    if len(s) == 0:\n",
    "        return 0\n",
    "    else:\n",
    "        \n",
    "        lengths = []\n",
    "        for x in range(len(s)):\n",
    "            this_string = []\n",
    "            for i in range(x, len(s)):\n",
    "                this_char = s[i]\n",
    "                if this_char not in this_string:\n",
    "                    this_string.append(this_char)\n",
    "                else:\n",
    "                    break\n",
    "            lengths.append(len(this_string))\n",
    "\n",
    "        longest_len_so_far = lengths[0]\n",
    "        longest_len_index = 0\n",
    "        for index in range(len(lengths)):\n",
    "            if lengths[index] > longest_len_so_far:\n",
    "                longest_len_so_far = lengths[index]\n",
    "                longest_len_index = index\n",
    "            else:\n",
    "                pass\n",
    "\n",
    "        longest_substring = s[longest_len_index: longest_len_index+longest_len_so_far]\n",
    "        return print('The answer is \"'+longest_substring+'\", with the length of '+str(longest_len_so_far)+'.')\n",
    "\n",
    "lengthOfLongestSubstring('pwwkeepke')"
   ]
  },
  {
   "cell_type": "markdown",
   "metadata": {},
   "source": [
    "### 4. Median of Two Sorted Arrays\n",
    "Given two sorted arrays nums1 and nums2 of size m and n respectively, return the median of the two sorted arrays.\n",
    "\n",
    "Follow up: The overall run time complexity should be O(log (m+n))."
   ]
  },
  {
   "cell_type": "code",
   "execution_count": 58,
   "metadata": {},
   "outputs": [
    {
     "data": {
      "text/plain": [
       "2"
      ]
     },
     "execution_count": 58,
     "metadata": {},
     "output_type": "execute_result"
    }
   ],
   "source": [
    "def findMedianSortedArrays(nums1, nums2):\n",
    "    merged = nums1 + nums2\n",
    "    merged.sort()\n",
    "    \n",
    "    if len(merged) % 2 == 0:\n",
    "        median = (merged[int((len(merged) / 2) - 1)] + merged[int((len(merged) / 2))]) / 2\n",
    "    else:\n",
    "        median = merged[int((len(merged) / 2) - .5)]\n",
    "    \n",
    "    return median\n",
    "\n",
    "findMedianSortedArrays(nums1 = [1, 3], nums2 = [2])"
   ]
  },
  {
   "cell_type": "code",
   "execution_count": null,
   "metadata": {},
   "outputs": [],
   "source": []
  }
 ],
 "metadata": {
  "kernelspec": {
   "display_name": "Python 3",
   "language": "python",
   "name": "python3"
  },
  "language_info": {
   "codemirror_mode": {
    "name": "ipython",
    "version": 3
   },
   "file_extension": ".py",
   "mimetype": "text/x-python",
   "name": "python",
   "nbconvert_exporter": "python",
   "pygments_lexer": "ipython3",
   "version": "3.8.3"
  }
 },
 "nbformat": 4,
 "nbformat_minor": 4
}
